{
 "cells": [
  {
   "cell_type": "markdown",
   "id": "96303d2f",
   "metadata": {},
   "source": [
    "# FDM: método θ para advección–difusión–reacción\n"
   ]
  },
  {
   "cell_type": "markdown",
   "id": "2ada7b90",
   "metadata": {},
   "source": []
  }
 ],
 "metadata": {
  "kernelspec": {
   "display_name": "venv",
   "language": "python",
   "name": "python3"
  },
  "language_info": {
   "name": "python",
   "version": "3.13.5"
  }
 },
 "nbformat": 4,
 "nbformat_minor": 5
}
