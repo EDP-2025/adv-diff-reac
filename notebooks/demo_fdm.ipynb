{
 "cells": [
  {
   "cell_type": "markdown",
   "id": "1b3e8972",
   "metadata": {},
   "source": [
    "# Demo FDM\n",
    "\n",
    "Este notebook muestra paso a paso:\n",
    "\n",
    "1. Construcción de la malla  \n",
    "2. Ensamble de la matriz y vector de carga  \n",
    "3. Snapshots de la solución en distintos tiempos  "
   ]
  },
  {
   "cell_type": "code",
   "execution_count": null,
   "id": "db340116",
   "metadata": {
    "vscode": {
     "languageId": "plaintext"
    }
   },
   "outputs": [],
   "source": [
    "import sys\n",
    "# Para poder importar tu módulo fdm.py\n",
    "sys.path.append('..')\n",
    "\n",
    "import numpy as np\n",
    "import matplotlib.pyplot as plt\n",
    "from src.fdm import solve_fdm, montarA, fuente\n",
    "\n",
    "# Parámetros\n",
    "nx, ny    = 16, 16\n",
    "Lx, Ly    = 1.0, 1.0\n",
    "D, k      = 0.5, 0.5\n",
    "theta     = 0.5\n",
    "dt_factor = 0.01\n",
    "Tfin      = 0.1\n",
    "\n",
    "dx = Lx/(nx-1)\n",
    "dy = Ly/(ny-1)\n",
    "\n",
    "# Crear malla\n",
    "x = np.linspace(0, Lx, nx)\n",
    "y = np.linspace(0, Ly, ny)\n",
    "X, Y = np.meshgrid(x, y, indexing='ij')\n",
    "\n",
    "# Campo de velocidad de ejemplo\n",
    "Vx = np.ones_like(X)\n",
    "Vy = 0.01 * np.ones_like(Y)\n"
   ]
  },
  {
   "cell_type": "markdown",
   "id": "20b12114",
   "metadata": {},
   "source": [
    "## 1. Construcción de la malla"
   ]
  },
  {
   "cell_type": "code",
   "execution_count": null,
   "id": "f850330b",
   "metadata": {
    "vscode": {
     "languageId": "plaintext"
    }
   },
   "outputs": [],
   "source": [
    "plt.figure(figsize=(5,5))\n",
    "# Líneas de la malla\n",
    "for xi in x:\n",
    "    plt.plot([xi]*ny, y, 'k-', lw=0.5)\n",
    "for yi in y:\n",
    "    plt.plot(x, [yi]*nx, 'k-', lw=0.5)\n",
    "# Nodos\n",
    "plt.scatter(X, Y, c='red', s=10)\n",
    "plt.gca().set_aspect('equal')\n",
    "plt.title('Malla uniforme (nx × ny)')\n",
    "plt.xlabel('x'); plt.ylabel('y')\n",
    "plt.show()\n"
   ]
  },
  {
   "cell_type": "markdown",
   "id": "c3310b7d",
   "metadata": {},
   "source": [
    "## 2. Ensamble de la matriz A y vector de carga\n"
   ]
  },
  {
   "cell_type": "code",
   "execution_count": null,
   "id": "56c2a75c",
   "metadata": {
    "vscode": {
     "languageId": "plaintext"
    }
   },
   "outputs": [],
   "source": [
    "A = montarA(Vx, Vy, nx, ny, dx, dy, D, k)\n",
    "print(\"Forma de A:\", A.shape)\n",
    "print(\"Número de no-ceros (nnz):\", A.nnz)\n",
    "\n",
    "# Mostrar sub-bloque 10×10 para verlo en denso\n",
    "print(\"\\nPrimer bloque 10×10 de A:\")\n",
    "print(A[:10, :10].toarray())\n",
    "\n",
    "# Vector de carga en t=0\n",
    "F0 = fuente(0, X, Y).ravel()\n",
    "print(\"\\nPrimeros 10 valores de F0:\", F0[:10])"
   ]
  },
  {
   "cell_type": "markdown",
   "id": "dd659db5",
   "metadata": {},
   "source": [
    "## 3. Snapshots de la solución\n"
   ]
  },
  {
   "cell_type": "code",
   "execution_count": null,
   "id": "66e669d9",
   "metadata": {
    "vscode": {
     "languageId": "plaintext"
    }
   },
   "outputs": [],
   "source": [
    "U, Xf, Yf, dt = solve_fdm(nx, ny, Lx, Ly, Tfin, D, k, theta, dt_factor)\n",
    "\n",
    "# Elegimos 4 instantes: t=0, t=T/4, t=T/2, t=T\n",
    "instantes = [0, U.shape[0]//4, U.shape[0]//2, U.shape[0]-1]\n",
    "\n",
    "fig, axs = plt.subplots(1, len(instantes), figsize=(16,4))\n",
    "for ax, idx in zip(axs, instantes):\n",
    "    cf = ax.contourf(Xf, Yf, U[idx], 20)\n",
    "    ax.set_title(f\"t = {idx*dt:.3f}\")\n",
    "    ax.set_aspect('equal')\n",
    "plt.colorbar(cf, ax=axs, shrink=0.6)\n",
    "plt.show()"
   ]
  }
 ],
 "metadata": {
  "language_info": {
   "name": "python"
  }
 },
 "nbformat": 4,
 "nbformat_minor": 5
}
