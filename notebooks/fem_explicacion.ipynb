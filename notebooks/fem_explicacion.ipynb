{
 "cells": [
  {
   "cell_type": "markdown",
   "id": "36f22b66",
   "metadata": {},
   "source": [
    "# FEM: elementos finitos para advección–difusión–reacción\n"
   ]
  },
  {
   "cell_type": "markdown",
   "id": "5e798d29",
   "metadata": {},
   "source": []
  }
 ],
 "metadata": {
  "kernelspec": {
   "display_name": "venv",
   "language": "python",
   "name": "python3"
  },
  "language_info": {
   "name": "python",
   "version": "3.13.5"
  }
 },
 "nbformat": 4,
 "nbformat_minor": 5
}
