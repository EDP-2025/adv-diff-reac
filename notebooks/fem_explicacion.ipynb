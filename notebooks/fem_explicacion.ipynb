{
 "cells": [
  {
   "cell_type": "markdown",
   "id": "36f22b66",
   "metadata": {},
   "source": [
    "# FEM para la ecuación de advección–difusión–reacción\n",
    "\n",
    "En este notebook desarrollaremos la teoría de la formulación variacional y la implementación\n",
    "del método de Elementos Finitos (FEM) con esquema θ para resolver la misma EDP en $\\Omega=[0,1]^{2}$.\n"
   ]
  },
  {
   "cell_type": "code",
   "execution_count": 2,
   "id": "7b931321",
   "metadata": {},
   "outputs": [],
   "source": [
    "import numpy as np\n",
    "import matplotlib.pyplot as plt\n",
    "import os\n",
    "\n",
    "# En notebook __file__ no existe, usamos cwd → notebooks/\n",
    "BASE_DIR = os.path.abspath(os.path.join(os.getcwd(), '..'))\n",
    "RESULTS_DIR = os.path.join(BASE_DIR, 'results')\n",
    "os.makedirs(RESULTS_DIR, exist_ok=True)\n",
    "\n",
    "# Ajustamos path para importar nuestro src\n",
    "import sys\n",
    "root = BASE_DIR\n",
    "if root not in sys.path:\n",
    "    sys.path.insert(0, root)\n"
   ]
  },
  {
   "cell_type": "markdown",
   "id": "5e798d29",
   "metadata": {},
   "source": []
  }
 ],
 "metadata": {
  "kernelspec": {
   "display_name": "venv",
   "language": "python",
   "name": "python3"
  },
  "language_info": {
   "codemirror_mode": {
    "name": "ipython",
    "version": 3
   },
   "file_extension": ".py",
   "mimetype": "text/x-python",
   "name": "python",
   "nbconvert_exporter": "python",
   "pygments_lexer": "ipython3",
   "version": "3.13.5"
  }
 },
 "nbformat": 4,
 "nbformat_minor": 5
}
